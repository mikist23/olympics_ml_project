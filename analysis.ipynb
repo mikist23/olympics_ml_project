{
 "cells": [
  {
   "cell_type": "code",
   "execution_count": 2,
   "metadata": {},
   "outputs": [],
   "source": [
    "import pandas as pd"
   ]
  },
  {
   "cell_type": "code",
   "execution_count": 7,
   "metadata": {},
   "outputs": [],
   "source": [
    "directory = './Olympics-Dataset-master/clean-data'\n",
    "\n",
    "bios = pd.read_csv(f\"{directory}/bios.csv\")\n",
    "results = pd.read_csv(f\"{directory}/results.csv\")\n",
    "nocs = pd.read_csv(f\"{directory}/noc_regions.csv\")\n",
    "pops = pd.read_csv(f\"{directory}/populations.csv\")"
   ]
  },
  {
   "cell_type": "markdown",
   "metadata": {},
   "source": [
    "Exploratory data analysis"
   ]
  },
  {
   "cell_type": "code",
   "execution_count": 10,
   "metadata": {},
   "outputs": [
    {
     "name": "stdout",
     "output_type": "stream",
     "text": [
      "<class 'pandas.core.frame.DataFrame'>\n",
      "RangeIndex: 145500 entries, 0 to 145499\n",
      "Data columns (total 10 columns):\n",
      " #   Column        Non-Null Count   Dtype  \n",
      "---  ------        --------------   -----  \n",
      " 0   athlete_id    145500 non-null  int64  \n",
      " 1   name          145500 non-null  object \n",
      " 2   born_date     143693 non-null  object \n",
      " 3   born_city     110908 non-null  object \n",
      " 4   born_region   110908 non-null  object \n",
      " 5   born_country  110908 non-null  object \n",
      " 6   NOC           145499 non-null  object \n",
      " 7   height_cm     106651 non-null  float64\n",
      " 8   weight_kg     102070 non-null  float64\n",
      " 9   died_date     33940 non-null   object \n",
      "dtypes: float64(2), int64(1), object(7)\n",
      "memory usage: 11.1+ MB\n"
     ]
    }
   ],
   "source": [
    "bios.info()"
   ]
  },
  {
   "cell_type": "markdown",
   "metadata": {},
   "source": [
    "How many models does each counry won since 1896"
   ]
  },
  {
   "cell_type": "code",
   "execution_count": 17,
   "metadata": {},
   "outputs": [
    {
     "data": {
      "text/html": [
       "<div>\n",
       "<style scoped>\n",
       "    .dataframe tbody tr th:only-of-type {\n",
       "        vertical-align: middle;\n",
       "    }\n",
       "\n",
       "    .dataframe tbody tr th {\n",
       "        vertical-align: top;\n",
       "    }\n",
       "\n",
       "    .dataframe thead th {\n",
       "        text-align: right;\n",
       "    }\n",
       "</style>\n",
       "<table border=\"1\" class=\"dataframe\">\n",
       "  <thead>\n",
       "    <tr style=\"text-align: right;\">\n",
       "      <th></th>\n",
       "      <th>year</th>\n",
       "      <th>type</th>\n",
       "      <th>discipline</th>\n",
       "      <th>event</th>\n",
       "      <th>as</th>\n",
       "      <th>athlete_id</th>\n",
       "      <th>noc</th>\n",
       "      <th>team</th>\n",
       "      <th>place</th>\n",
       "      <th>tied</th>\n",
       "      <th>medal</th>\n",
       "    </tr>\n",
       "  </thead>\n",
       "  <tbody>\n",
       "    <tr>\n",
       "      <th>0</th>\n",
       "      <td>1912.0</td>\n",
       "      <td>Summer</td>\n",
       "      <td>Tennis</td>\n",
       "      <td>Singles, Men (Olympic)</td>\n",
       "      <td>Jean-François Blanchy</td>\n",
       "      <td>1</td>\n",
       "      <td>FRA</td>\n",
       "      <td>NaN</td>\n",
       "      <td>17.0</td>\n",
       "      <td>True</td>\n",
       "      <td>NaN</td>\n",
       "    </tr>\n",
       "    <tr>\n",
       "      <th>1</th>\n",
       "      <td>1912.0</td>\n",
       "      <td>Summer</td>\n",
       "      <td>Tennis</td>\n",
       "      <td>Doubles, Men (Olympic)</td>\n",
       "      <td>Jean-François Blanchy</td>\n",
       "      <td>1</td>\n",
       "      <td>FRA</td>\n",
       "      <td>Jean Montariol</td>\n",
       "      <td>NaN</td>\n",
       "      <td>False</td>\n",
       "      <td>NaN</td>\n",
       "    </tr>\n",
       "    <tr>\n",
       "      <th>2</th>\n",
       "      <td>1920.0</td>\n",
       "      <td>Summer</td>\n",
       "      <td>Tennis</td>\n",
       "      <td>Singles, Men (Olympic)</td>\n",
       "      <td>Jean-François Blanchy</td>\n",
       "      <td>1</td>\n",
       "      <td>FRA</td>\n",
       "      <td>NaN</td>\n",
       "      <td>32.0</td>\n",
       "      <td>True</td>\n",
       "      <td>NaN</td>\n",
       "    </tr>\n",
       "    <tr>\n",
       "      <th>3</th>\n",
       "      <td>1920.0</td>\n",
       "      <td>Summer</td>\n",
       "      <td>Tennis</td>\n",
       "      <td>Doubles, Mixed (Olympic)</td>\n",
       "      <td>Jean-François Blanchy</td>\n",
       "      <td>1</td>\n",
       "      <td>FRA</td>\n",
       "      <td>Jeanne Vaussard</td>\n",
       "      <td>8.0</td>\n",
       "      <td>True</td>\n",
       "      <td>NaN</td>\n",
       "    </tr>\n",
       "    <tr>\n",
       "      <th>4</th>\n",
       "      <td>1920.0</td>\n",
       "      <td>Summer</td>\n",
       "      <td>Tennis</td>\n",
       "      <td>Doubles, Men (Olympic)</td>\n",
       "      <td>Jean-François Blanchy</td>\n",
       "      <td>1</td>\n",
       "      <td>FRA</td>\n",
       "      <td>Jacques Brugnon</td>\n",
       "      <td>4.0</td>\n",
       "      <td>False</td>\n",
       "      <td>NaN</td>\n",
       "    </tr>\n",
       "  </tbody>\n",
       "</table>\n",
       "</div>"
      ],
      "text/plain": [
       "     year    type discipline                     event                     as  \\\n",
       "0  1912.0  Summer     Tennis    Singles, Men (Olympic)  Jean-François Blanchy   \n",
       "1  1912.0  Summer     Tennis    Doubles, Men (Olympic)  Jean-François Blanchy   \n",
       "2  1920.0  Summer     Tennis    Singles, Men (Olympic)  Jean-François Blanchy   \n",
       "3  1920.0  Summer     Tennis  Doubles, Mixed (Olympic)  Jean-François Blanchy   \n",
       "4  1920.0  Summer     Tennis    Doubles, Men (Olympic)  Jean-François Blanchy   \n",
       "\n",
       "   athlete_id  noc             team  place   tied medal  \n",
       "0           1  FRA              NaN   17.0   True   NaN  \n",
       "1           1  FRA   Jean Montariol    NaN  False   NaN  \n",
       "2           1  FRA              NaN   32.0   True   NaN  \n",
       "3           1  FRA  Jeanne Vaussard    8.0   True   NaN  \n",
       "4           1  FRA  Jacques Brugnon    4.0  False   NaN  "
      ]
     },
     "execution_count": 17,
     "metadata": {},
     "output_type": "execute_result"
    }
   ],
   "source": [
    "results.head()"
   ]
  },
  {
   "cell_type": "code",
   "execution_count": 19,
   "metadata": {},
   "outputs": [],
   "source": [
    "medals = results[results['medal'].notna()]\n",
    "medals_filtered = medals.drop_duplicates(['year','type','discipline','noc','event','medal'])"
   ]
  },
  {
   "cell_type": "code",
   "execution_count": 20,
   "metadata": {},
   "outputs": [
    {
     "data": {
      "text/plain": [
       "medal\n",
       "Gold      1201\n",
       "Silver     972\n",
       "Bronze     859\n",
       "Name: count, dtype: int64"
      ]
     },
     "execution_count": 20,
     "metadata": {},
     "output_type": "execute_result"
    }
   ],
   "source": [
    "medals_filtered.groupby(['noc'])['medal'].value_counts().loc['USA']"
   ]
  }
 ],
 "metadata": {
  "kernelspec": {
   "display_name": "Python 3",
   "language": "python",
   "name": "python3"
  },
  "language_info": {
   "codemirror_mode": {
    "name": "ipython",
    "version": 3
   },
   "file_extension": ".py",
   "mimetype": "text/x-python",
   "name": "python",
   "nbconvert_exporter": "python",
   "pygments_lexer": "ipython3",
   "version": "3.12.2"
  }
 },
 "nbformat": 4,
 "nbformat_minor": 2
}
